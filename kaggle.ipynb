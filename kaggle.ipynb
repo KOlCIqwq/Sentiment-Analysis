{
 "cells": [
  {
   "cell_type": "code",
   "execution_count": null,
   "id": "8c0a29b5",
   "metadata": {},
   "outputs": [],
   "source": [
    "!pip install --upgrade -q \"transformers[torch]\" datasets evaluate accelerate"
   ]
  },
  {
   "cell_type": "code",
   "execution_count": null,
   "id": "13fb70be",
   "metadata": {},
   "outputs": [],
   "source": [
    "import pandas as pd\n",
    "import ast\n",
    "import re\n",
    "import numpy as np\n",
    "\n",
    "from sklearn.model_selection import train_test_split\n",
    "from datasets import Dataset, DatasetDict\n",
    "import evaluate\n",
    "\n",
    "from transformers import AutoTokenizer\n",
    "from transformers import DataCollatorWithPadding\n",
    "from transformers import AutoModelForSequenceClassification, TrainingArguments, Trainer\n",
    "\n",
    "import torch"
   ]
  },
  {
   "cell_type": "code",
   "execution_count": null,
   "id": "2e879f01",
   "metadata": {},
   "outputs": [],
   "source": [
    "agg_df = pd.read_csv(\"/kaggle/input/financial-sentiment-aggregated/combined_data.csv\")\n",
    "print(len(agg_df))\n",
    "df = agg_df[[\n",
    "    'cleaned_text',\n",
    "    'target'\n",
    "]].rename(columns={'cleaned_text': 'text', 'target':'label'})\n",
    "display(df.head(4))"
   ]
  },
  {
   "cell_type": "code",
   "execution_count": null,
   "id": "c0d335da",
   "metadata": {},
   "outputs": [],
   "source": [
    "train_val_df,test_df = train_test_split(\n",
    "    df,\n",
    "    test_size = 0.15, # 15% for final evaluation\n",
    "    stratify = df['label']\n",
    ")\n",
    "train_df,val_df = train_test_split(\n",
    "    train_val_df,\n",
    "    test_size = 0.1, # 10% for validation\n",
    "    stratify = train_val_df['label']\n",
    ")\n",
    "print(f\"Training samples: {len(train_df)}\")\n",
    "print(f\"Validation samples: {len(val_df)}\")\n",
    "print(f\"Test samples: {len(test_df)}\")\n",
    "\n",
    "# Convert into Hugging Face Dataset objects\n",
    "train_dataset = Dataset.from_pandas(train_df)\n",
    "val_dataset = Dataset.from_pandas(val_df)\n",
    "test_dataset = Dataset.from_pandas(test_df)\n",
    "\n",
    "ds = DatasetDict({\n",
    "    'train': train_dataset,\n",
    "    'validation': val_dataset,\n",
    "    'test': test_dataset\n",
    "})\n",
    "\n",
    "print(ds)"
   ]
  },
  {
   "cell_type": "code",
   "execution_count": null,
   "id": "8b2d3963",
   "metadata": {},
   "outputs": [],
   "source": [
    "tokenizer = AutoTokenizer.from_pretrained(\"distilbert-base-uncased\")\n",
    "\n",
    "def preprocess_function(examples):\n",
    "    text_to_tokenize = [str(text) for text in examples[\"text\"]]\n",
    "    # Pass the entire list directly to the tokenizer\n",
    "    return tokenizer(text_to_tokenize, truncation=True, padding=True)\n",
    "tokenized_ds = ds.map(preprocess_function, batched = True)"
   ]
  },
  {
   "cell_type": "code",
   "execution_count": null,
   "id": "cfb5bb34",
   "metadata": {},
   "outputs": [],
   "source": [
    "# Define the label mappings\n",
    "id2label = {0: \"negative\", 1: \"positive\", 2: \"neutral\"}\n",
    "label2id = {\"negative\": 0, \"positive\": 1, \"neutral\": 2}\n",
    "\n",
    "# Load the model\n",
    "model = AutoModelForSequenceClassification.from_pretrained(\n",
    "    \"distilbert-base-uncased\", num_labels=3, id2label=id2label, label2id=label2id\n",
    ")\n",
    "\n",
    "# Define our metrics\n",
    "accuracy = evaluate.load(\"accuracy\")\n",
    "\n",
    "def compute_metrics(eval_pred):\n",
    "    predictions, labels = eval_pred\n",
    "    predictions = np.argmax(predictions, axis=1)\n",
    "    return accuracy.compute(predictions=predictions, references=labels)"
   ]
  },
  {
   "cell_type": "code",
   "execution_count": null,
   "id": "8ce5b6f0",
   "metadata": {},
   "outputs": [],
   "source": [
    "import transformers\n",
    "print(transformers.__version__)"
   ]
  },
  {
   "cell_type": "code",
   "execution_count": null,
   "id": "5454a960",
   "metadata": {},
   "outputs": [],
   "source": [
    "from huggingface_hub import login\n",
    "from kaggle_secrets import UserSecretsClient\n",
    "\n",
    "# Get the token\n",
    "user_secrets = UserSecretsClient()\n",
    "hf_token = user_secrets.get_secret(\"HF_TOKEN\")\n",
    "login(token=hf_token)\n",
    "\n",
    "training_args = TrainingArguments(\n",
    "    output_dir=\"distilbert-financial-sentiment\",\n",
    "    report_to=\"tensorboard\",  # see logs under \"Advanced Settings\" -> \"TensorBoard\"\n",
    "    learning_rate=1e-5,\n",
    "    per_device_train_batch_size=16,\n",
    "    per_device_eval_batch_size=16,\n",
    "    num_train_epochs=2,\n",
    "    weight_decay=0.01,\n",
    "\n",
    "    eval_strategy=\"epoch\", # Evaluate at the end of each epoch\n",
    "    save_strategy=\"epoch\", # Save a checkpoint at the end of each epoch\n",
    "    \n",
    "    load_best_model_at_end=True,  # Automatically load the best model when training is done\n",
    "    push_to_hub=True, # Push the final model to your Hugging Face Hub profile\n",
    ")\n",
    "\n",
    "# This object encapsulates the entire training and evaluation process.\n",
    "trainer = Trainer(\n",
    "    model=model,\n",
    "    args=training_args,\n",
    "    train_dataset=tokenized_ds[\"train\"], \n",
    "    eval_dataset=tokenized_ds[\"validation\"],\n",
    "    tokenizer=tokenizer,\n",
    "    compute_metrics=compute_metrics,\n",
    ")\n",
    "\n",
    "print(\"Starting training with the modern Trainer API...\")\n",
    "trainer.train()\n",
    "print(\"Training complete.\")\n",
    "\n",
    "trainer.push_to_hub()\n",
    "print(\"Best model pushed to the Hub.\")"
   ]
  }
 ],
 "metadata": {
  "kernelspec": {
   "display_name": "Python 3",
   "language": "python",
   "name": "python3"
  },
  "language_info": {
   "name": "python",
   "version": "3.10.6"
  }
 },
 "nbformat": 4,
 "nbformat_minor": 5
}
